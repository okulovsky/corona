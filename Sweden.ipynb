{
 "cells": [
  {
   "cell_type": "markdown",
   "metadata": {},
   "source": [
    "! wget https://scb.se/hitta-statistik/statistik-efter-amne/befolkning/befolkningens-sammansattning/befolkningsstatistik/pong/tabell-och-diagram/preliminar-statistik-over-doda/ -O sweden.xls"
   ]
  },
  {
   "cell_type": "markdown",
   "metadata": {},
   "source": [
    "https://www.scb.se/en/finding-statistics/statistics-by-subject-area/population/population-composition/population-statistics/pong/tables-and-graphs/yearly-statistics--the-whole-country/summary-of-population-statistics/"
   ]
  },
  {
   "cell_type": "code",
   "execution_count": 2,
   "metadata": {},
   "outputs": [],
   "source": [
    "import pandas as pd"
   ]
  },
  {
   "cell_type": "code",
   "execution_count": 3,
   "metadata": {},
   "outputs": [
    {
     "name": "stdout",
     "output_type": "stream",
     "text": [
      "Requirement already satisfied: xlrd in /home/yura/anaconda3/envs/bsys/lib/python3.7/site-packages (1.2.0)\r\n"
     ]
    }
   ],
   "source": [
    "!pip install xlrd"
   ]
  },
  {
   "cell_type": "code",
   "execution_count": 4,
   "metadata": {},
   "outputs": [],
   "source": [
    "full_df = pd.read_excel('sweden.xls','Tabell 1')\n"
   ]
  },
  {
   "cell_type": "code",
   "execution_count": 5,
   "metadata": {},
   "outputs": [],
   "source": [
    "from datetime import datetime\n",
    "\n",
    "df = full_df.iloc[6:]\n",
    "columns = list(full_df.columns)\n",
    "df = df[columns[:7]]\n",
    "df = df.iloc[:-1]\n",
    "df.columns = ['date','y2015','y2016','y2017','y2018','y2019','y2020']\n",
    "swedish_months = ['januari','februari','mars','april','maj','juni','juli','augusti','september','oktober','november','december']\n",
    "df['datestamp'] = df.date.str.split(' ').apply(lambda z: \"{0:02d}-{1:02d}\".format(int(z[0]), swedish_months.index(z[1])+1))\n",
    "df = df.set_index('datestamp')\n",
    "df = df.drop('date', axis=1)\n"
   ]
  },
  {
   "cell_type": "code",
   "execution_count": 6,
   "metadata": {},
   "outputs": [],
   "source": [
    "from yo_ds import Query\n",
    "pop = pd.read_csv('sweden_population.csv')\n",
    "pop = pop.transpose().iloc[1:].reset_index()\n",
    "pop.columns=['year','population']\n",
    "pop.year = pop.year.astype(int)+1\n",
    "pop.population = pop.population.apply(lambda z: int(z.replace(' ','')))\n",
    "pop = Query.df(pop).to_dictionary(lambda z: str(z.year), lambda z: z.population)"
   ]
  },
  {
   "cell_type": "code",
   "execution_count": 7,
   "metadata": {},
   "outputs": [
    {
     "data": {
      "text/plain": [
       "['2015', '2016', '2017', '2018', '2019', '2020']"
      ]
     },
     "execution_count": 7,
     "metadata": {},
     "output_type": "execute_result"
    }
   ],
   "source": [
    "years = [str(c) for c in range(2015,2021)]\n",
    "years"
   ]
  },
  {
   "cell_type": "code",
   "execution_count": 8,
   "metadata": {},
   "outputs": [
    {
     "data": {
      "text/html": [
       "<div>\n",
       "<style scoped>\n",
       "    .dataframe tbody tr th:only-of-type {\n",
       "        vertical-align: middle;\n",
       "    }\n",
       "\n",
       "    .dataframe tbody tr th {\n",
       "        vertical-align: top;\n",
       "    }\n",
       "\n",
       "    .dataframe thead th {\n",
       "        text-align: right;\n",
       "    }\n",
       "</style>\n",
       "<table border=\"1\" class=\"dataframe\">\n",
       "  <thead>\n",
       "    <tr style=\"text-align: right;\">\n",
       "      <th></th>\n",
       "      <th>y2015</th>\n",
       "      <th>y2016</th>\n",
       "      <th>y2017</th>\n",
       "      <th>y2018</th>\n",
       "      <th>y2019</th>\n",
       "      <th>y2020</th>\n",
       "      <th>rel_2015</th>\n",
       "      <th>cm_2015</th>\n",
       "      <th>rel_2016</th>\n",
       "      <th>cm_2016</th>\n",
       "      <th>rel_2017</th>\n",
       "      <th>cm_2017</th>\n",
       "      <th>rel_2018</th>\n",
       "      <th>cm_2018</th>\n",
       "      <th>rel_2019</th>\n",
       "      <th>cm_2019</th>\n",
       "      <th>rel_2020</th>\n",
       "      <th>cm_2020</th>\n",
       "    </tr>\n",
       "    <tr>\n",
       "      <th>datestamp</th>\n",
       "      <th></th>\n",
       "      <th></th>\n",
       "      <th></th>\n",
       "      <th></th>\n",
       "      <th></th>\n",
       "      <th></th>\n",
       "      <th></th>\n",
       "      <th></th>\n",
       "      <th></th>\n",
       "      <th></th>\n",
       "      <th></th>\n",
       "      <th></th>\n",
       "      <th></th>\n",
       "      <th></th>\n",
       "      <th></th>\n",
       "      <th></th>\n",
       "      <th></th>\n",
       "      <th></th>\n",
       "    </tr>\n",
       "  </thead>\n",
       "  <tbody>\n",
       "    <tr>\n",
       "      <th>01-01</th>\n",
       "      <td>295</td>\n",
       "      <td>245.0</td>\n",
       "      <td>339.0</td>\n",
       "      <td>275.0</td>\n",
       "      <td>300.0</td>\n",
       "      <td>254.0</td>\n",
       "      <td>3.02646e-05</td>\n",
       "      <td>3.02646e-05</td>\n",
       "      <td>0.000025</td>\n",
       "      <td>0.000025</td>\n",
       "      <td>0.000034</td>\n",
       "      <td>0.000034</td>\n",
       "      <td>0.000027</td>\n",
       "      <td>0.000027</td>\n",
       "      <td>0.000029</td>\n",
       "      <td>0.000029</td>\n",
       "      <td>0.000025</td>\n",
       "      <td>0.000025</td>\n",
       "    </tr>\n",
       "    <tr>\n",
       "      <th>02-01</th>\n",
       "      <td>272</td>\n",
       "      <td>272.0</td>\n",
       "      <td>317.0</td>\n",
       "      <td>312.0</td>\n",
       "      <td>276.0</td>\n",
       "      <td>300.0</td>\n",
       "      <td>2.7905e-05</td>\n",
       "      <td>5.81696e-05</td>\n",
       "      <td>0.000028</td>\n",
       "      <td>0.000052</td>\n",
       "      <td>0.000032</td>\n",
       "      <td>0.000066</td>\n",
       "      <td>0.000031</td>\n",
       "      <td>0.000058</td>\n",
       "      <td>0.000027</td>\n",
       "      <td>0.000056</td>\n",
       "      <td>0.000029</td>\n",
       "      <td>0.000054</td>\n",
       "    </tr>\n",
       "    <tr>\n",
       "      <th>03-01</th>\n",
       "      <td>281</td>\n",
       "      <td>293.0</td>\n",
       "      <td>310.0</td>\n",
       "      <td>295.0</td>\n",
       "      <td>271.0</td>\n",
       "      <td>256.0</td>\n",
       "      <td>2.88283e-05</td>\n",
       "      <td>8.6998e-05</td>\n",
       "      <td>0.000030</td>\n",
       "      <td>0.000082</td>\n",
       "      <td>0.000031</td>\n",
       "      <td>0.000097</td>\n",
       "      <td>0.000029</td>\n",
       "      <td>0.000087</td>\n",
       "      <td>0.000026</td>\n",
       "      <td>0.000083</td>\n",
       "      <td>0.000025</td>\n",
       "      <td>0.000078</td>\n",
       "    </tr>\n",
       "    <tr>\n",
       "      <th>04-01</th>\n",
       "      <td>256</td>\n",
       "      <td>260.0</td>\n",
       "      <td>305.0</td>\n",
       "      <td>285.0</td>\n",
       "      <td>282.0</td>\n",
       "      <td>273.0</td>\n",
       "      <td>2.62635e-05</td>\n",
       "      <td>0.000113261</td>\n",
       "      <td>0.000026</td>\n",
       "      <td>0.000109</td>\n",
       "      <td>0.000031</td>\n",
       "      <td>0.000127</td>\n",
       "      <td>0.000028</td>\n",
       "      <td>0.000115</td>\n",
       "      <td>0.000028</td>\n",
       "      <td>0.000110</td>\n",
       "      <td>0.000026</td>\n",
       "      <td>0.000105</td>\n",
       "    </tr>\n",
       "    <tr>\n",
       "      <th>05-01</th>\n",
       "      <td>268</td>\n",
       "      <td>260.0</td>\n",
       "      <td>304.0</td>\n",
       "      <td>291.0</td>\n",
       "      <td>275.0</td>\n",
       "      <td>265.0</td>\n",
       "      <td>2.74946e-05</td>\n",
       "      <td>0.000140756</td>\n",
       "      <td>0.000026</td>\n",
       "      <td>0.000135</td>\n",
       "      <td>0.000030</td>\n",
       "      <td>0.000158</td>\n",
       "      <td>0.000029</td>\n",
       "      <td>0.000144</td>\n",
       "      <td>0.000027</td>\n",
       "      <td>0.000137</td>\n",
       "      <td>0.000026</td>\n",
       "      <td>0.000131</td>\n",
       "    </tr>\n",
       "    <tr>\n",
       "      <th>...</th>\n",
       "      <td>...</td>\n",
       "      <td>...</td>\n",
       "      <td>...</td>\n",
       "      <td>...</td>\n",
       "      <td>...</td>\n",
       "      <td>...</td>\n",
       "      <td>...</td>\n",
       "      <td>...</td>\n",
       "      <td>...</td>\n",
       "      <td>...</td>\n",
       "      <td>...</td>\n",
       "      <td>...</td>\n",
       "      <td>...</td>\n",
       "      <td>...</td>\n",
       "      <td>...</td>\n",
       "      <td>...</td>\n",
       "      <td>...</td>\n",
       "      <td>...</td>\n",
       "    </tr>\n",
       "    <tr>\n",
       "      <th>27-12</th>\n",
       "      <td>227</td>\n",
       "      <td>249.0</td>\n",
       "      <td>271.0</td>\n",
       "      <td>240.0</td>\n",
       "      <td>238.0</td>\n",
       "      <td>0.0</td>\n",
       "      <td>2.32884e-05</td>\n",
       "      <td>0.00911458</td>\n",
       "      <td>0.000025</td>\n",
       "      <td>0.008922</td>\n",
       "      <td>0.000027</td>\n",
       "      <td>0.008866</td>\n",
       "      <td>0.000024</td>\n",
       "      <td>0.008760</td>\n",
       "      <td>0.000023</td>\n",
       "      <td>0.008330</td>\n",
       "      <td>0.000000</td>\n",
       "      <td>0.006756</td>\n",
       "    </tr>\n",
       "    <tr>\n",
       "      <th>28-12</th>\n",
       "      <td>274</td>\n",
       "      <td>262.0</td>\n",
       "      <td>273.0</td>\n",
       "      <td>261.0</td>\n",
       "      <td>215.0</td>\n",
       "      <td>0.0</td>\n",
       "      <td>2.81102e-05</td>\n",
       "      <td>0.00914269</td>\n",
       "      <td>0.000027</td>\n",
       "      <td>0.008948</td>\n",
       "      <td>0.000027</td>\n",
       "      <td>0.008893</td>\n",
       "      <td>0.000026</td>\n",
       "      <td>0.008786</td>\n",
       "      <td>0.000021</td>\n",
       "      <td>0.008351</td>\n",
       "      <td>0.000000</td>\n",
       "      <td>0.006756</td>\n",
       "    </tr>\n",
       "    <tr>\n",
       "      <th>29-12</th>\n",
       "      <td>292</td>\n",
       "      <td>274.0</td>\n",
       "      <td>276.0</td>\n",
       "      <td>263.0</td>\n",
       "      <td>244.0</td>\n",
       "      <td>0.0</td>\n",
       "      <td>2.99568e-05</td>\n",
       "      <td>0.00917264</td>\n",
       "      <td>0.000028</td>\n",
       "      <td>0.008976</td>\n",
       "      <td>0.000028</td>\n",
       "      <td>0.008921</td>\n",
       "      <td>0.000026</td>\n",
       "      <td>0.008812</td>\n",
       "      <td>0.000024</td>\n",
       "      <td>0.008375</td>\n",
       "      <td>0.000000</td>\n",
       "      <td>0.006756</td>\n",
       "    </tr>\n",
       "    <tr>\n",
       "      <th>30-12</th>\n",
       "      <td>283</td>\n",
       "      <td>307.0</td>\n",
       "      <td>275.0</td>\n",
       "      <td>232.0</td>\n",
       "      <td>226.0</td>\n",
       "      <td>0.0</td>\n",
       "      <td>2.90335e-05</td>\n",
       "      <td>0.00920168</td>\n",
       "      <td>0.000031</td>\n",
       "      <td>0.009007</td>\n",
       "      <td>0.000028</td>\n",
       "      <td>0.008948</td>\n",
       "      <td>0.000023</td>\n",
       "      <td>0.008835</td>\n",
       "      <td>0.000022</td>\n",
       "      <td>0.008397</td>\n",
       "      <td>0.000000</td>\n",
       "      <td>0.006756</td>\n",
       "    </tr>\n",
       "    <tr>\n",
       "      <th>31-12</th>\n",
       "      <td>255</td>\n",
       "      <td>289.0</td>\n",
       "      <td>302.0</td>\n",
       "      <td>258.0</td>\n",
       "      <td>246.0</td>\n",
       "      <td>0.0</td>\n",
       "      <td>2.61609e-05</td>\n",
       "      <td>0.00922784</td>\n",
       "      <td>0.000029</td>\n",
       "      <td>0.009037</td>\n",
       "      <td>0.000030</td>\n",
       "      <td>0.008979</td>\n",
       "      <td>0.000025</td>\n",
       "      <td>0.008861</td>\n",
       "      <td>0.000024</td>\n",
       "      <td>0.008421</td>\n",
       "      <td>0.000000</td>\n",
       "      <td>0.006756</td>\n",
       "    </tr>\n",
       "  </tbody>\n",
       "</table>\n",
       "<p>366 rows × 18 columns</p>\n",
       "</div>"
      ],
      "text/plain": [
       "          y2015  y2016  y2017  y2018  y2019  y2020     rel_2015      cm_2015  \\\n",
       "datestamp                                                                      \n",
       "01-01       295  245.0  339.0  275.0  300.0  254.0  3.02646e-05  3.02646e-05   \n",
       "02-01       272  272.0  317.0  312.0  276.0  300.0   2.7905e-05  5.81696e-05   \n",
       "03-01       281  293.0  310.0  295.0  271.0  256.0  2.88283e-05   8.6998e-05   \n",
       "04-01       256  260.0  305.0  285.0  282.0  273.0  2.62635e-05  0.000113261   \n",
       "05-01       268  260.0  304.0  291.0  275.0  265.0  2.74946e-05  0.000140756   \n",
       "...         ...    ...    ...    ...    ...    ...          ...          ...   \n",
       "27-12       227  249.0  271.0  240.0  238.0    0.0  2.32884e-05   0.00911458   \n",
       "28-12       274  262.0  273.0  261.0  215.0    0.0  2.81102e-05   0.00914269   \n",
       "29-12       292  274.0  276.0  263.0  244.0    0.0  2.99568e-05   0.00917264   \n",
       "30-12       283  307.0  275.0  232.0  226.0    0.0  2.90335e-05   0.00920168   \n",
       "31-12       255  289.0  302.0  258.0  246.0    0.0  2.61609e-05   0.00922784   \n",
       "\n",
       "           rel_2016   cm_2016  rel_2017   cm_2017  rel_2018   cm_2018  \\\n",
       "datestamp                                                               \n",
       "01-01      0.000025  0.000025  0.000034  0.000034  0.000027  0.000027   \n",
       "02-01      0.000028  0.000052  0.000032  0.000066  0.000031  0.000058   \n",
       "03-01      0.000030  0.000082  0.000031  0.000097  0.000029  0.000087   \n",
       "04-01      0.000026  0.000109  0.000031  0.000127  0.000028  0.000115   \n",
       "05-01      0.000026  0.000135  0.000030  0.000158  0.000029  0.000144   \n",
       "...             ...       ...       ...       ...       ...       ...   \n",
       "27-12      0.000025  0.008922  0.000027  0.008866  0.000024  0.008760   \n",
       "28-12      0.000027  0.008948  0.000027  0.008893  0.000026  0.008786   \n",
       "29-12      0.000028  0.008976  0.000028  0.008921  0.000026  0.008812   \n",
       "30-12      0.000031  0.009007  0.000028  0.008948  0.000023  0.008835   \n",
       "31-12      0.000029  0.009037  0.000030  0.008979  0.000025  0.008861   \n",
       "\n",
       "           rel_2019   cm_2019  rel_2020   cm_2020  \n",
       "datestamp                                          \n",
       "01-01      0.000029  0.000029  0.000025  0.000025  \n",
       "02-01      0.000027  0.000056  0.000029  0.000054  \n",
       "03-01      0.000026  0.000083  0.000025  0.000078  \n",
       "04-01      0.000028  0.000110  0.000026  0.000105  \n",
       "05-01      0.000027  0.000137  0.000026  0.000131  \n",
       "...             ...       ...       ...       ...  \n",
       "27-12      0.000023  0.008330  0.000000  0.006756  \n",
       "28-12      0.000021  0.008351  0.000000  0.006756  \n",
       "29-12      0.000024  0.008375  0.000000  0.006756  \n",
       "30-12      0.000022  0.008397  0.000000  0.006756  \n",
       "31-12      0.000024  0.008421  0.000000  0.006756  \n",
       "\n",
       "[366 rows x 18 columns]"
      ]
     },
     "execution_count": 8,
     "metadata": {},
     "output_type": "execute_result"
    }
   ],
   "source": [
    "cumulative = []\n",
    "relatives = []\n",
    "for y in years:\n",
    "    rl_name = 'rel_'+y\n",
    "    df[rl_name] = df['y'+y]/pop[y]\n",
    "    relatives.append(rl_name)\n",
    "    \n",
    "    cm_name = 'cm_'+y\n",
    "    cumulative.append(cm_name)\n",
    "    df[cm_name] = df[rl_name].cumsum()\n",
    "    \n",
    "df"
   ]
  },
  {
   "cell_type": "code",
   "execution_count": 9,
   "metadata": {},
   "outputs": [
    {
     "data": {
      "text/plain": [
       "<AxesSubplot:>"
      ]
     },
     "execution_count": 9,
     "metadata": {},
     "output_type": "execute_result"
    },
    {
     "data": {
      "image/png": "[encoded data removed]",
      "text/plain": [
       "<Figure size 432x288 with 1 Axes>"
      ]
     },
     "metadata": {
      "needs_background": "light"
     },
     "output_type": "display_data"
    }
   ],
   "source": [
    "df.loc['30-09'][cumulative].plot(kind='bar')"
   ]
  },
  {
   "cell_type": "code",
   "execution_count": 16,
   "metadata": {},
   "outputs": [
    {
     "name": "stderr",
     "output_type": "stream",
     "text": [
      "/home/yura/anaconda3/envs/bsys/lib/python3.7/site-packages/pandas/plotting/_matplotlib/core.py:1182: UserWarning: FixedFormatter should only be used together with FixedLocator\n",
      "  ax.set_xticklabels(xticklabels)\n"
     ]
    },
    {
     "data": {
      "text/plain": [
       "<AxesSubplot:xlabel='datestamp'>"
      ]
     },
     "execution_count": 16,
     "metadata": {},
     "output_type": "execute_result"
    },
    {
     "data": {
      "image/png": "[encoded data removed]",
      "text/plain": [
       "<Figure size 1440x720 with 1 Axes>"
      ]
     },
     "metadata": {
      "needs_background": "light"
     },
     "output_type": "display_data"
    }
   ],
   "source": [
    "from matplotlib import pyplot as plt\n",
    "_, ax = plt.subplots(1,1,figsize=(20,10))\n",
    "df[cumulative].plot(ax=ax)"
   ]
  },
  {
   "cell_type": "code",
   "execution_count": 12,
   "metadata": {},
   "outputs": [
    {
     "data": {
      "text/plain": [
       "cm_2015    0.00695153\n",
       "cm_2016    0.00669829\n",
       "cm_2017    0.00670015\n",
       "cm_2018    0.00668798\n",
       "cm_2019    0.00624368\n",
       "cm_2020     0.0067525\n",
       "Name: 30-09, dtype: object"
      ]
     },
     "execution_count": 12,
     "metadata": {},
     "output_type": "execute_result"
    }
   ],
   "source": [
    "date='30-09'\n",
    "df.loc[date][cumulative]"
   ]
  },
  {
   "cell_type": "code",
   "execution_count": 13,
   "metadata": {},
   "outputs": [
    {
     "data": {
      "text/plain": [
       "0.37569152549150425"
      ]
     },
     "execution_count": 13,
     "metadata": {},
     "output_type": "execute_result"
    }
   ],
   "source": [
    "\n",
    "old = df.loc[date][cumulative].iloc[:-1]\n",
    "mu, sigma = old.mean(), old.std()\n",
    "(df.loc[date][cumulative].iloc[-1]-mu)/sigma"
   ]
  }
 ],
 "metadata": {
  "kernelspec": {
   "display_name": "Python 3",
   "language": "python",
   "name": "python3"
  },
  "language_info": {
   "codemirror_mode": {
    "name": "ipython",
    "version": 3
   },
   "file_extension": ".py",
   "mimetype": "text/x-python",
   "name": "python",
   "nbconvert_exporter": "python",
   "pygments_lexer": "ipython3",
   "version": "3.7.7"
  }
 },
 "nbformat": 4,
 "nbformat_minor": 4
}
